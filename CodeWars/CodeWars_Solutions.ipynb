{
 "cells": [
  {
   "cell_type": "code",
   "execution_count": null,
   "metadata": {},
   "outputs": [],
   "source": [
    "#String incrementer\n",
    "# Your job is to write a function which increments a string, to create a new string.\n",
    "\n",
    "# If the string already ends with a number, the number should be incremented by 1.\n",
    "# If the string does not end with a number. the number 1 should be appended to the new string.\n",
    "\n",
    "\n",
    "def increment_string(strng):\n",
    "    head = strng.rstrip('0123456789')\n",
    "    tail = strng[len(head):]\n",
    "    if tail == \"\": \n",
    "        return strng+\"1\"\n",
    "    return head + str(int(tail) + 1).zfill(len(tail))"
   ]
  },
  {
   "cell_type": "code",
   "execution_count": null,
   "metadata": {},
   "outputs": [],
   "source": [
    "# Sum of Digits/Digital Root\n",
    "\n",
    "# Digital root is the recursive sum of all the digits in a number.\n",
    "\n",
    "# Given n, take the sum of the digits of n. If that value has more than one digit, \n",
    "# continue reducing in this way until a single-digit number is produced. The input will be a non-negative integer.\n",
    "\n",
    "def digital_root(n):\n",
    "    num=str(n)\n",
    "    while len(num)>1:\n",
    "        cur=0\n",
    "        for i in num:\n",
    "            cur += int(i)\n",
    "        num=str(cur)    \n",
    "    return int(num) "
   ]
  },
  {
   "cell_type": "code",
   "execution_count": null,
   "metadata": {},
   "outputs": [],
   "source": [
    "# Which are in?\n",
    "\n",
    "# Given two arrays of strings a1 and a2 return a sorted array r \n",
    "# in lexicographical order of the strings of a1 which are substrings of strings of a2.\n",
    "\n",
    "def in_array(array1, array2):\n",
    "    # your code\n",
    "    list1=[]\n",
    "    for a1 in array1:\n",
    "        for a2 in array2:\n",
    "            if a1 in a2:\n",
    "                list1.append(a1)\n",
    "    return sorted(list(set(list1)))\n"
   ]
  },
  {
   "cell_type": "code",
   "execution_count": null,
   "metadata": {},
   "outputs": [],
   "source": [
    "# Valid Parentheses\n",
    "\n",
    "# Write a function that takes a string of parentheses, and determines if the order of the parentheses is valid. \n",
    "# The function should return true if the string is valid, and false if it's invalid.\n",
    "\n",
    "def valid_parentheses(string):\n",
    "    s = ''.join([i for i in string if i in '()'])\n",
    "    \n",
    "    while '()' in s:\n",
    "        s=s.replace('()','')\n",
    "    return s == ''    "
   ]
  },
  {
   "cell_type": "code",
   "execution_count": null,
   "metadata": {},
   "outputs": [],
   "source": [
    "#Two Sum\n",
    "\n",
    "def two_sum(numbers, target):\n",
    "   \n",
    "    for i in numbers:\n",
    "        for j in numbers[1::]:\n",
    "            if i+j==target:\n",
    "                x = numbers.index(i)\n",
    "                y = numbers.index(j,x+1)\n",
    "                return [x,y]"
   ]
  },
  {
   "cell_type": "code",
   "execution_count": null,
   "metadata": {},
   "outputs": [],
   "source": [
    "# Is a number prime?\n",
    "\n",
    "from math import sqrt\n",
    "def is_prime(num):\n",
    "    if num>1:    \n",
    "        for i in range(2,int(sqrt(num))+1):\n",
    "            if (num%i==0):\n",
    "                return False\n",
    "        else:\n",
    "            return True\n",
    "    else:\n",
    "        return False"
   ]
  },
  {
   "cell_type": "code",
   "execution_count": null,
   "metadata": {},
   "outputs": [],
   "source": [
    "# Reverse Number\n",
    "\n",
    "def reverse_number(n):\n",
    "    if n>0:\n",
    "        return(int(str(n)[::-1]))\n",
    "    else:\n",
    "        return(int(str(n)[0]+(str(n)[1:])[::-1]))"
   ]
  },
  {
   "cell_type": "code",
   "execution_count": null,
   "metadata": {},
   "outputs": [],
   "source": [
    "# Find The Parity Outlier\n",
    "\n",
    "def find_outlier(integers):\n",
    "    even=[]\n",
    "    odd=[]\n",
    "    for i in integers:\n",
    "        if i%2==0:\n",
    "            even.append(i) \n",
    "        else:\n",
    "            odd.append(i)\n",
    "    if len(even)==1:\n",
    "        return even.pop()\n",
    "    else:\n",
    "        return odd.pop()"
   ]
  },
  {
   "cell_type": "code",
   "execution_count": null,
   "metadata": {},
   "outputs": [],
   "source": [
    "# Human Readable Time\n",
    "\n",
    "def make_readable(seconds):\n",
    "    if seconds<=359999:\n",
    "        h=seconds//3600\n",
    "        m=(seconds%3600)//60\n",
    "        s= (seconds%60)\n",
    "        h_m= str(h).zfill(2)\n",
    "        m_m= str(m).zfill(2)\n",
    "        s_m= str(s).zfill(2)\n",
    "        return f’{h_m}:{m_m}:{s_m}'"
   ]
  }
 ],
 "metadata": {
  "language_info": {
   "name": "python"
  },
  "orig_nbformat": 4
 },
 "nbformat": 4,
 "nbformat_minor": 2
}
